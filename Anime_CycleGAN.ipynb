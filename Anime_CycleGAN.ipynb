{
  "cells": [
    {
      "cell_type": "code",
      "execution_count": null,
      "metadata": {
        "id": "xHiGGRcGokNL"
      },
      "outputs": [],
      "source": [
        "import torch.nn as nn\n",
        "import torch\n",
        "import os\n",
        "\n",
        "import torch.nn.functional as F\n",
        "import torchvision.transforms as T\n",
        "from torchvision.utils import save_image\n",
        "import tqdm\n",
        "import torchvision\n",
        "import torch.optim as optim"
      ]
    },
    {
      "cell_type": "code",
      "execution_count": null,
      "metadata": {
        "id": "AQlvDu3Zpvk-"
      },
      "outputs": [],
      "source": [
        "os.makedirs(\"./drive/MyDrive/preds/\", exist_ok=True)\n",
        "os.makedirs(\"./drive/MyDrive/preds/A/\", exist_ok=True)\n",
        "os.makedirs(\"./drive/MyDrive/preds/B/\", exist_ok=True)"
      ]
    },
    {
      "cell_type": "code",
      "source": [
        "\n",
        "!rm -rf /content/drive/*"
      ],
      "metadata": {
        "id": "-h6sYqQ_l5vk"
      },
      "execution_count": null,
      "outputs": []
    },
    {
      "cell_type": "code",
      "execution_count": null,
      "metadata": {
        "colab": {
          "base_uri": "https://localhost:8080/",
          "height": 365
        },
        "id": "uTRPgVMiuohT",
        "outputId": "dba16590-f983-41a9-faa3-c35e185c7f0f"
      },
      "outputs": [
        {
          "output_type": "error",
          "ename": "MessageError",
          "evalue": "Error: credential propagation was unsuccessful",
          "traceback": [
            "\u001b[0;31m---------------------------------------------------------------------------\u001b[0m",
            "\u001b[0;31mMessageError\u001b[0m                              Traceback (most recent call last)",
            "\u001b[0;32m<ipython-input-9-4d003df7fce5>\u001b[0m in \u001b[0;36m<cell line: 2>\u001b[0;34m()\u001b[0m\n\u001b[1;32m      1\u001b[0m \u001b[0;32mfrom\u001b[0m \u001b[0mgoogle\u001b[0m\u001b[0;34m.\u001b[0m\u001b[0mcolab\u001b[0m \u001b[0;32mimport\u001b[0m \u001b[0mdrive\u001b[0m\u001b[0;34m\u001b[0m\u001b[0;34m\u001b[0m\u001b[0m\n\u001b[0;32m----> 2\u001b[0;31m \u001b[0mdrive\u001b[0m\u001b[0;34m.\u001b[0m\u001b[0mmount\u001b[0m\u001b[0;34m(\u001b[0m\u001b[0;34m'/content/drive'\u001b[0m\u001b[0;34m)\u001b[0m\u001b[0;34m\u001b[0m\u001b[0;34m\u001b[0m\u001b[0m\n\u001b[0m\u001b[1;32m      3\u001b[0m \u001b[0;34m\u001b[0m\u001b[0m\n\u001b[1;32m      4\u001b[0m \u001b[0mtrA\u001b[0m \u001b[0;34m=\u001b[0m \u001b[0;34m'./drive/MyDrive/selfie2anime/trainA'\u001b[0m\u001b[0;34m\u001b[0m\u001b[0;34m\u001b[0m\u001b[0m\n\u001b[1;32m      5\u001b[0m \u001b[0mtrB\u001b[0m \u001b[0;34m=\u001b[0m \u001b[0;34m'./drive/MyDrive/selfie2anime/trainB'\u001b[0m\u001b[0;34m\u001b[0m\u001b[0;34m\u001b[0m\u001b[0m\n",
            "\u001b[0;32m/usr/local/lib/python3.10/dist-packages/google/colab/drive.py\u001b[0m in \u001b[0;36mmount\u001b[0;34m(mountpoint, force_remount, timeout_ms, readonly)\u001b[0m\n\u001b[1;32m     98\u001b[0m \u001b[0;32mdef\u001b[0m \u001b[0mmount\u001b[0m\u001b[0;34m(\u001b[0m\u001b[0mmountpoint\u001b[0m\u001b[0;34m,\u001b[0m \u001b[0mforce_remount\u001b[0m\u001b[0;34m=\u001b[0m\u001b[0;32mFalse\u001b[0m\u001b[0;34m,\u001b[0m \u001b[0mtimeout_ms\u001b[0m\u001b[0;34m=\u001b[0m\u001b[0;36m120000\u001b[0m\u001b[0;34m,\u001b[0m \u001b[0mreadonly\u001b[0m\u001b[0;34m=\u001b[0m\u001b[0;32mFalse\u001b[0m\u001b[0;34m)\u001b[0m\u001b[0;34m:\u001b[0m\u001b[0;34m\u001b[0m\u001b[0;34m\u001b[0m\u001b[0m\n\u001b[1;32m     99\u001b[0m   \u001b[0;34m\"\"\"Mount your Google Drive at the specified mountpoint path.\"\"\"\u001b[0m\u001b[0;34m\u001b[0m\u001b[0;34m\u001b[0m\u001b[0m\n\u001b[0;32m--> 100\u001b[0;31m   return _mount(\n\u001b[0m\u001b[1;32m    101\u001b[0m       \u001b[0mmountpoint\u001b[0m\u001b[0;34m,\u001b[0m\u001b[0;34m\u001b[0m\u001b[0;34m\u001b[0m\u001b[0m\n\u001b[1;32m    102\u001b[0m       \u001b[0mforce_remount\u001b[0m\u001b[0;34m=\u001b[0m\u001b[0mforce_remount\u001b[0m\u001b[0;34m,\u001b[0m\u001b[0;34m\u001b[0m\u001b[0;34m\u001b[0m\u001b[0m\n",
            "\u001b[0;32m/usr/local/lib/python3.10/dist-packages/google/colab/drive.py\u001b[0m in \u001b[0;36m_mount\u001b[0;34m(mountpoint, force_remount, timeout_ms, ephemeral, readonly)\u001b[0m\n\u001b[1;32m    131\u001b[0m   )\n\u001b[1;32m    132\u001b[0m   \u001b[0;32mif\u001b[0m \u001b[0mephemeral\u001b[0m\u001b[0;34m:\u001b[0m\u001b[0;34m\u001b[0m\u001b[0;34m\u001b[0m\u001b[0m\n\u001b[0;32m--> 133\u001b[0;31m     _message.blocking_request(\n\u001b[0m\u001b[1;32m    134\u001b[0m         \u001b[0;34m'request_auth'\u001b[0m\u001b[0;34m,\u001b[0m \u001b[0mrequest\u001b[0m\u001b[0;34m=\u001b[0m\u001b[0;34m{\u001b[0m\u001b[0;34m'authType'\u001b[0m\u001b[0;34m:\u001b[0m \u001b[0;34m'dfs_ephemeral'\u001b[0m\u001b[0;34m}\u001b[0m\u001b[0;34m,\u001b[0m \u001b[0mtimeout_sec\u001b[0m\u001b[0;34m=\u001b[0m\u001b[0;32mNone\u001b[0m\u001b[0;34m\u001b[0m\u001b[0;34m\u001b[0m\u001b[0m\n\u001b[1;32m    135\u001b[0m     )\n",
            "\u001b[0;32m/usr/local/lib/python3.10/dist-packages/google/colab/_message.py\u001b[0m in \u001b[0;36mblocking_request\u001b[0;34m(request_type, request, timeout_sec, parent)\u001b[0m\n\u001b[1;32m    174\u001b[0m       \u001b[0mrequest_type\u001b[0m\u001b[0;34m,\u001b[0m \u001b[0mrequest\u001b[0m\u001b[0;34m,\u001b[0m \u001b[0mparent\u001b[0m\u001b[0;34m=\u001b[0m\u001b[0mparent\u001b[0m\u001b[0;34m,\u001b[0m \u001b[0mexpect_reply\u001b[0m\u001b[0;34m=\u001b[0m\u001b[0;32mTrue\u001b[0m\u001b[0;34m\u001b[0m\u001b[0;34m\u001b[0m\u001b[0m\n\u001b[1;32m    175\u001b[0m   )\n\u001b[0;32m--> 176\u001b[0;31m   \u001b[0;32mreturn\u001b[0m \u001b[0mread_reply_from_input\u001b[0m\u001b[0;34m(\u001b[0m\u001b[0mrequest_id\u001b[0m\u001b[0;34m,\u001b[0m \u001b[0mtimeout_sec\u001b[0m\u001b[0;34m)\u001b[0m\u001b[0;34m\u001b[0m\u001b[0;34m\u001b[0m\u001b[0m\n\u001b[0m",
            "\u001b[0;32m/usr/local/lib/python3.10/dist-packages/google/colab/_message.py\u001b[0m in \u001b[0;36mread_reply_from_input\u001b[0;34m(message_id, timeout_sec)\u001b[0m\n\u001b[1;32m    101\u001b[0m     ):\n\u001b[1;32m    102\u001b[0m       \u001b[0;32mif\u001b[0m \u001b[0;34m'error'\u001b[0m \u001b[0;32min\u001b[0m \u001b[0mreply\u001b[0m\u001b[0;34m:\u001b[0m\u001b[0;34m\u001b[0m\u001b[0;34m\u001b[0m\u001b[0m\n\u001b[0;32m--> 103\u001b[0;31m         \u001b[0;32mraise\u001b[0m \u001b[0mMessageError\u001b[0m\u001b[0;34m(\u001b[0m\u001b[0mreply\u001b[0m\u001b[0;34m[\u001b[0m\u001b[0;34m'error'\u001b[0m\u001b[0;34m]\u001b[0m\u001b[0;34m)\u001b[0m\u001b[0;34m\u001b[0m\u001b[0;34m\u001b[0m\u001b[0m\n\u001b[0m\u001b[1;32m    104\u001b[0m       \u001b[0;32mreturn\u001b[0m \u001b[0mreply\u001b[0m\u001b[0;34m.\u001b[0m\u001b[0mget\u001b[0m\u001b[0;34m(\u001b[0m\u001b[0;34m'data'\u001b[0m\u001b[0;34m,\u001b[0m \u001b[0;32mNone\u001b[0m\u001b[0;34m)\u001b[0m\u001b[0;34m\u001b[0m\u001b[0;34m\u001b[0m\u001b[0m\n\u001b[1;32m    105\u001b[0m \u001b[0;34m\u001b[0m\u001b[0m\n",
            "\u001b[0;31mMessageError\u001b[0m: Error: credential propagation was unsuccessful"
          ]
        }
      ],
      "source": [
        "\n",
        "from google.colab import drive\n",
        "drive.mount('/content/drive')\n",
        "\n",
        "trA = './drive/MyDrive/selfie2anime/trainA'\n",
        "trB = './drive/MyDrive/selfie2anime/trainB'\n",
        "teA = './drive/MyDrive/selfie2anime/testA'\n",
        "teB = './drive/MyDrive/selfie2anime/testB'\n",
        "\n"
      ]
    },
    {
      "cell_type": "code",
      "execution_count": null,
      "metadata": {
        "id": "-VPDE0UOzeM7",
        "colab": {
          "base_uri": "https://localhost:8080/",
          "height": 216
        },
        "outputId": "82859810-d5d8-450c-f0f5-57de49f19d07"
      },
      "outputs": [
        {
          "output_type": "error",
          "ename": "NameError",
          "evalue": "name 'trA' is not defined",
          "traceback": [
            "\u001b[0;31m---------------------------------------------------------------------------\u001b[0m",
            "\u001b[0;31mNameError\u001b[0m                                 Traceback (most recent call last)",
            "\u001b[0;32m<ipython-input-6-64a6e098d2fd>\u001b[0m in \u001b[0;36m<cell line: 9>\u001b[0;34m()\u001b[0m\n\u001b[1;32m      7\u001b[0m     ])\n\u001b[1;32m      8\u001b[0m \u001b[0;34m\u001b[0m\u001b[0m\n\u001b[0;32m----> 9\u001b[0;31m \u001b[0mtrainA\u001b[0m \u001b[0;34m=\u001b[0m \u001b[0mtorchvision\u001b[0m\u001b[0;34m.\u001b[0m\u001b[0mdatasets\u001b[0m\u001b[0;34m.\u001b[0m\u001b[0mImageFolder\u001b[0m\u001b[0;34m(\u001b[0m\u001b[0mroot\u001b[0m\u001b[0;34m=\u001b[0m\u001b[0mtrA\u001b[0m\u001b[0;34m,\u001b[0m \u001b[0mtransform\u001b[0m\u001b[0;34m=\u001b[0m\u001b[0mpreprocess\u001b[0m\u001b[0;34m)\u001b[0m\u001b[0;34m\u001b[0m\u001b[0;34m\u001b[0m\u001b[0m\n\u001b[0m\u001b[1;32m     10\u001b[0m \u001b[0mtrainB\u001b[0m \u001b[0;34m=\u001b[0m \u001b[0mtorchvision\u001b[0m\u001b[0;34m.\u001b[0m\u001b[0mdatasets\u001b[0m\u001b[0;34m.\u001b[0m\u001b[0mImageFolder\u001b[0m\u001b[0;34m(\u001b[0m\u001b[0mroot\u001b[0m\u001b[0;34m=\u001b[0m\u001b[0mtrB\u001b[0m\u001b[0;34m,\u001b[0m \u001b[0mtransform\u001b[0m\u001b[0;34m=\u001b[0m\u001b[0mpreprocess\u001b[0m\u001b[0;34m)\u001b[0m\u001b[0;34m\u001b[0m\u001b[0;34m\u001b[0m\u001b[0m\n\u001b[1;32m     11\u001b[0m \u001b[0mtestA\u001b[0m \u001b[0;34m=\u001b[0m \u001b[0mtorchvision\u001b[0m\u001b[0;34m.\u001b[0m\u001b[0mdatasets\u001b[0m\u001b[0;34m.\u001b[0m\u001b[0mImageFolder\u001b[0m\u001b[0;34m(\u001b[0m\u001b[0mroot\u001b[0m\u001b[0;34m=\u001b[0m\u001b[0mteA\u001b[0m\u001b[0;34m,\u001b[0m \u001b[0mtransform\u001b[0m\u001b[0;34m=\u001b[0m\u001b[0mpreprocess\u001b[0m\u001b[0;34m)\u001b[0m\u001b[0;34m\u001b[0m\u001b[0;34m\u001b[0m\u001b[0m\n",
            "\u001b[0;31mNameError\u001b[0m: name 'trA' is not defined"
          ]
        }
      ],
      "source": [
        "preprocess = T.Compose(\n",
        "    [\n",
        "        T.RandomHorizontalFlip(),\n",
        "        T.Resize((128,128)),\n",
        "        T.ToTensor(),\n",
        "        T.Normalize(mean=[0.5, 0.5, 0.5], std=[0.5, 0.5, 0.5])\n",
        "    ])\n",
        "\n",
        "trainA = torchvision.datasets.ImageFolder(root=trA, transform=preprocess)\n",
        "trainB = torchvision.datasets.ImageFolder(root=trB, transform=preprocess)\n",
        "testA = torchvision.datasets.ImageFolder(root=teA, transform=preprocess)\n",
        "testB = torchvision.datasets.ImageFolder(root=teB, transform=preprocess)\n",
        "\n",
        "dlTrainA = torch.utils.data.DataLoader(trainA, batch_size=16,shuffle=True, num_workers=10)\n",
        "dlTrainB = torch.utils.data.DataLoader(trainB, batch_size=16,shuffle=True, num_workers=10)\n",
        "dlTestA = torch.utils.data.DataLoader(testA, batch_size=16, shuffle=False, num_workers=10)\n",
        "dlTestB = torch.utils.data.DataLoader(testB, batch_size=16, shuffle=False, num_workers=10)"
      ]
    },
    {
      "cell_type": "code",
      "execution_count": null,
      "metadata": {
        "id": "-HZqvNZM0MeQ"
      },
      "outputs": [],
      "source": [
        "class Discriminator(nn.Module):\n",
        "  def __init__(self):\n",
        "    super().__init__()\n",
        "    self.conv1 = nn.Sequential(\n",
        "        nn.Conv2d(in_channels=3, out_channels=64, kernel_size=5, stride=2, padding=2),\n",
        "        nn.LeakyReLU(0.2, inplace=True),\n",
        "    )\n",
        "    self.conv2 = nn.Sequential(\n",
        "        nn.Conv2d(in_channels=64, out_channels=128, kernel_size=5, stride=2, padding=2),\n",
        "        nn.InstanceNorm2d(128),\n",
        "        nn.LeakyReLU(0.2, inplace=True),\n",
        "    )\n",
        "    self.conv3 = nn.Sequential(\n",
        "        nn.Conv2d(in_channels=128, out_channels=256, kernel_size=5, stride=2, padding=2),\n",
        "        nn.InstanceNorm2d(256),\n",
        "        nn.LeakyReLU(0.2, inplace=True),\n",
        "    )\n",
        "\n",
        "    self.fc1 = nn.Linear(256*32*32, 1)\n",
        "\n",
        "  def forward(self,x):\n",
        "    x = self.conv1(x)\n",
        "    x = self.conv2(x)\n",
        "    x = self.conv3(x)\n",
        "    x = x.reshape(-1, 256 * 32 * 32)\n",
        "    x = self.fc1(x)\n",
        "    out = torch.sigmoid(x)\n",
        "    return out"
      ]
    },
    {
      "cell_type": "code",
      "execution_count": null,
      "metadata": {
        "id": "WyTlSTqgArs9"
      },
      "outputs": [],
      "source": [
        "class Generator(nn.Module):\n",
        "  def __init__(self):\n",
        "    super(Generator, self).__init__()\n",
        "    self.conv1 = nn.Sequential(\n",
        "      nn.ReflectionPad2d(2),\n",
        "      nn.Conv2d(in_channels=3, out_channels=64, kernel_size=5, stride=2, padding=0),\n",
        "      nn.InstanceNorm2d(64),\n",
        "      nn.ReLU(inplace=True)\n",
        "    )\n",
        "    self.down1 = nn.Sequential(\n",
        "      nn.Conv2d(in_channels=64, out_channels=128, kernel_size=3, stride=1, padding=1),\n",
        "      nn.InstanceNorm2d(128),\n",
        "      nn.ReLU(inplace=True),\n",
        "      nn.Dropout(p=0.5),\n",
        "      nn.ReflectionPad2d(1),\n",
        "      nn.Conv2d(in_channels=128, out_channels=128, kernel_size=3, stride=1, padding=0),\n",
        "      nn.InstanceNorm2d(128),\n",
        "      nn.ReLU(inplace=True),\n",
        "      nn.MaxPool2d(kernel_size=2, stride=2)\n",
        "    )\n",
        "    self.down2 = nn.Sequential(\n",
        "      nn.ReflectionPad2d(1),\n",
        "      nn.Conv2d(in_channels=128, out_channels=128, kernel_size=3, stride=1, padding=0),\n",
        "      nn.InstanceNorm2d(128),\n",
        "      nn.ReLU(inplace=True),\n",
        "      nn.Dropout(p=0.5),\n",
        "      nn.ReflectionPad2d(1),\n",
        "      nn.Conv2d(in_channels=128, out_channels=128, kernel_size=3, stride=1, padding=0),\n",
        "      nn.InstanceNorm2d(128),\n",
        "    )\n",
        "\n",
        "    self.up1 = nn.Sequential(\n",
        "      nn.ConvTranspose2d(in_channels=128, out_channels=64, kernel_size=2, stride=2),\n",
        "      nn.InstanceNorm2d(64),\n",
        "      nn.ReLU(inplace=True),\n",
        "    )\n",
        "\n",
        "    self.final_conv = nn.ConvTranspose2d(in_channels=64, out_channels=3, kernel_size=2, stride=2)\n",
        "\n",
        "  def forward(self, x):\n",
        "    x = self.conv1(x)\n",
        "    x = self.down1(x)\n",
        "    x = self.down2(x)\n",
        "    x = self.down2(x)\n",
        "    x = self.down2(x)\n",
        "    x = self.down2(x)\n",
        "    x = self.up1(x)\n",
        "    out = self.final_conv(x)\n",
        "    return out"
      ]
    },
    {
      "cell_type": "code",
      "execution_count": null,
      "metadata": {
        "id": "XD1xufT7Asff"
      },
      "outputs": [],
      "source": [
        "import torchvision.transforms.functional as F\n",
        "\n",
        "def train(loader_train_a, loader_train_b, loader_test_a, loader_test_b, gen_a, gen_b, dis_a, dis_b, gen_optimizer, dis_optimizer, epochs=100):\n",
        "  criterion = torch.nn.MSELoss()\n",
        "  criterion_L1 = torch.nn.L1Loss()\n",
        "  gen_a = gen_a.cuda()\n",
        "  gen_b = gen_b.cuda()\n",
        "  dis_a = dis_a.cuda()\n",
        "  dis_b = dis_b.cuda()\n",
        "\n",
        "  for e in range(epochs):\n",
        "    print(\"epoch\" + str(e))\n",
        "\n",
        "    total_loss_a = 0\n",
        "    total_loss_b = 0\n",
        "    total_gen_loss_a = 0\n",
        "    total_gen_loss_b = 0\n",
        "    for im_a, im_b in tqdm.tqdm(zip(loader_train_a, loader_train_b), total=len(loader_train_a)):\n",
        "      real_a = im_a[0].cuda()\n",
        "      real_b = im_b[0].cuda()\n",
        "\n",
        "      # train generator b cycle\n",
        "      gen_optimizer.zero_grad()\n",
        "      fake_a = gen_b(real_b).detach()\n",
        "      pred_fake_a = dis_a(fake_a)\n",
        "      loss_gen_b = criterion(pred_fake_a, torch.ones_like(pred_fake_a))\n",
        "      recovered_b = gen_a(fake_a)\n",
        "      loss_cycle_1 = criterion_L1(recovered_b, real_b) * 10\n",
        "      b_id = gen_b(real_a)\n",
        "      loss_b_id = criterion_L1(b_id, real_a) * 10\n",
        "      final_loss_gen_b = loss_gen_b + loss_cycle_1 + loss_b_id\n",
        "      final_loss_gen_b.backward(retain_graph=True)\n",
        "      gen_optimizer.step()\n",
        "\n",
        "      # train generator a cycle\n",
        "      gen_optimizer.zero_grad()\n",
        "      fake_b = gen_a(real_a).detach()\n",
        "      pred_fake_b = dis_b(fake_b)\n",
        "      loss_gen_a = criterion(pred_fake_b, torch.ones_like(pred_fake_b))\n",
        "      recovered_a = gen_b(fake_b)\n",
        "      loss_cycle_2 = criterion_L1(recovered_a, real_a) * 10\n",
        "      a_id = gen_a(real_b)\n",
        "      loss_a_id = criterion_L1(a_id, real_b) * 10\n",
        "      final_loss_gen_a = loss_gen_a + loss_cycle_2 + loss_a_id\n",
        "      final_loss_gen_a.backward(retain_graph=True)\n",
        "      gen_optimizer.step()\n",
        "\n",
        "      # train discriminator a\n",
        "      # real\n",
        "      dis_optimizer.zero_grad()\n",
        "      pred_real_b = dis_a(real_b)\n",
        "      loss_dis_a_real = criterion(pred_real_b, torch.ones_like(pred_real_b))\n",
        "\n",
        "      # fake\n",
        "      fake_b = gen_a(real_a)\n",
        "      pred_fake_b = dis_a(fake_b)\n",
        "      loss_dis_a_fake = criterion(pred_fake_b, torch.ones_like(pred_fake_b))\n",
        "\n",
        "      loss_dis_a = (loss_dis_a_real + loss_dis_a_fake) / 2\n",
        "      loss_dis_a.backward()\n",
        "      dis_optimizer.step()\n",
        "\n",
        "      # train discriminator b\n",
        "      # real\n",
        "      dis_optimizer.zero_grad()\n",
        "      pred_real_a = dis_b(real_a)\n",
        "      loss_dis_b_real = criterion(pred_real_a, torch.ones_like(pred_real_a))\n",
        "\n",
        "      #fake\n",
        "      fake_a = gen_b(real_b)\n",
        "      pred_fake_a = dis_b(fake_a)\n",
        "      loss_dis_b_fake = criterion(pred_fake_a, torch.ones_like(pred_fake_a))\n",
        "\n",
        "      loss_dis_b = (loss_dis_b_real + loss_dis_b_fake) / 2\n",
        "      loss_dis_b.backward()\n",
        "      dis_optimizer.step()\n",
        "\n",
        "\n",
        "      total_loss_a += loss_dis_a.item()\n",
        "      total_loss_b += loss_dis_b.item()\n",
        "      total_gen_loss_a += final_loss_gen_a.item()\n",
        "      total_gen_loss_b += final_loss_gen_b.item()\n",
        "\n",
        "\n",
        "\n",
        "    for test_a, test_b in tqdm.tqdm(zip(loader_test_a, loader_train_b), total=len(loader_test_a)):\n",
        "      test_a = test_a[0].cuda()\n",
        "      test_b = test_b[0].cuda()\n",
        "      fake_test_a = gen_b(test_b)\n",
        "      fake_test_b = gen_a(test_a)\n",
        "\n",
        "\n",
        "      save_image(fake_test_a * 0.5 + 0.5, f\"./drive/MyDrive/preds/A/anime_{e}_{d}.png\")\n",
        "      save_image(fake_test_b * 0.5 + 0.5, f\"./drive/MyDrive/preds/B/human_{e}_{d}.png\")\n",
        "\n",
        "    print(f\"Epoch [{e+1}/{epochs}], Loss D_A: {total_loss_a / 3400}, Loss D_B: {total_loss_b / 3400}, Loss G_A: {total_gen_loss_a / 3400}, Loss G_B: {total_gen_loss_b / 3400}\")\n",
        "\n",
        "\n"
      ]
    },
    {
      "cell_type": "code",
      "execution_count": null,
      "metadata": {
        "colab": {
          "base_uri": "https://localhost:8080/"
        },
        "id": "rZH98SVq7Zwg",
        "outputId": "b04412b9-b026-4264-df2c-71c03594b9ca"
      },
      "outputs": [
        {
          "output_type": "stream",
          "name": "stdout",
          "text": [
            "epoch0\n"
          ]
        },
        {
          "output_type": "stream",
          "name": "stderr",
          "text": [
            "100%|██████████| 220/220 [01:40<00:00,  2.19it/s]\n",
            "100%|██████████| 7/7 [00:08<00:00,  1.24s/it]\n"
          ]
        },
        {
          "output_type": "stream",
          "name": "stdout",
          "text": [
            "Epoch [1/100], Loss D_A: 4.482887778609743e-05, Loss D_B: 9.037817992099651e-05, Loss G_A: 0.4005918421464808, Loss G_B: 0.4029512235697578\n",
            "epoch1\n"
          ]
        },
        {
          "output_type": "stream",
          "name": "stderr",
          "text": [
            "100%|██████████| 220/220 [01:40<00:00,  2.19it/s]\n",
            "100%|██████████| 7/7 [00:03<00:00,  2.16it/s]\n"
          ]
        },
        {
          "output_type": "stream",
          "name": "stdout",
          "text": [
            "Epoch [2/100], Loss D_A: 2.0882642020831767e-15, Loss D_B: 5.748081749141634e-15, Loss G_A: 0.32073316546047437, Loss G_B: 0.3269041445676018\n",
            "epoch2\n"
          ]
        },
        {
          "output_type": "stream",
          "name": "stderr",
          "text": [
            "100%|██████████| 220/220 [01:39<00:00,  2.20it/s]\n",
            "100%|██████████| 7/7 [00:04<00:00,  1.74it/s]\n"
          ]
        },
        {
          "output_type": "stream",
          "name": "stdout",
          "text": [
            "Epoch [3/100], Loss D_A: 2.377183417432688e-15, Loss D_B: 5.395945128625231e-15, Loss G_A: 0.286620789345573, Loss G_B: 0.29506322489065284\n",
            "epoch3\n"
          ]
        },
        {
          "output_type": "stream",
          "name": "stderr",
          "text": [
            "100%|██████████| 220/220 [01:39<00:00,  2.20it/s]\n",
            "100%|██████████| 7/7 [00:03<00:00,  2.14it/s]\n"
          ]
        },
        {
          "output_type": "stream",
          "name": "stdout",
          "text": [
            "Epoch [4/100], Loss D_A: 2.3359092438113293e-15, Loss D_B: 5.8912352120815364e-15, Loss G_A: 0.268521953680936, Loss G_B: 0.27697166947757496\n",
            "epoch4\n"
          ]
        },
        {
          "output_type": "stream",
          "name": "stderr",
          "text": [
            "100%|██████████| 220/220 [01:40<00:00,  2.19it/s]\n",
            "100%|██████████| 7/7 [00:03<00:00,  1.87it/s]\n"
          ]
        },
        {
          "output_type": "stream",
          "name": "stdout",
          "text": [
            "Epoch [5/100], Loss D_A: 2.6222161696911343e-15, Loss D_B: 5.126356855351546e-15, Loss G_A: 0.25823909184511973, Loss G_B: 0.267580541863161\n",
            "epoch5\n"
          ]
        },
        {
          "output_type": "stream",
          "name": "stderr",
          "text": [
            "100%|██████████| 220/220 [01:39<00:00,  2.21it/s]\n",
            "100%|██████████| 7/7 [00:03<00:00,  2.24it/s]\n"
          ]
        },
        {
          "output_type": "stream",
          "name": "stdout",
          "text": [
            "Epoch [6/100], Loss D_A: 2.3285948332961517e-15, Loss D_B: 5.775249559626579e-15, Loss G_A: 0.25171496223000916, Loss G_B: 0.2613199361632852\n",
            "epoch6\n"
          ]
        },
        {
          "output_type": "stream",
          "name": "stderr",
          "text": [
            "100%|██████████| 220/220 [01:40<00:00,  2.19it/s]\n",
            "100%|██████████| 7/7 [00:03<00:00,  2.01it/s]\n"
          ]
        },
        {
          "output_type": "stream",
          "name": "stdout",
          "text": [
            "Epoch [7/100], Loss D_A: 2.610722096024427e-15, Loss D_B: 5.326980686624987e-15, Loss G_A: 0.2456011907493367, Loss G_B: 0.25563042928190793\n",
            "epoch7\n"
          ]
        },
        {
          "output_type": "stream",
          "name": "stderr",
          "text": [
            "100%|██████████| 220/220 [01:40<00:00,  2.20it/s]\n",
            "100%|██████████| 7/7 [00:04<00:00,  1.50it/s]\n"
          ]
        },
        {
          "output_type": "stream",
          "name": "stdout",
          "text": [
            "Epoch [8/100], Loss D_A: 2.619603880221428e-15, Loss D_B: 5.435129470670825e-15, Loss G_A: 0.24128412134507124, Loss G_B: 0.25247159186531515\n",
            "epoch8\n"
          ]
        },
        {
          "output_type": "stream",
          "name": "stderr",
          "text": [
            "100%|██████████| 220/220 [01:40<00:00,  2.20it/s]\n",
            "100%|██████████| 7/7 [00:03<00:00,  2.07it/s]\n"
          ]
        },
        {
          "output_type": "stream",
          "name": "stdout",
          "text": [
            "Epoch [9/100], Loss D_A: 2.757532764221918e-15, Loss D_B: 6.0291640960820265e-15, Loss G_A: 0.23729765674647163, Loss G_B: 0.24765449306544135\n",
            "epoch9\n"
          ]
        },
        {
          "output_type": "stream",
          "name": "stderr",
          "text": [
            "100%|██████████| 220/220 [01:40<00:00,  2.19it/s]\n",
            "100%|██████████| 7/7 [00:04<00:00,  1.48it/s]\n"
          ]
        },
        {
          "output_type": "stream",
          "name": "stdout",
          "text": [
            "Epoch [10/100], Loss D_A: 2.8787429956162883e-15, Loss D_B: 6.577222426826398e-15, Loss G_A: 0.23451812940485336, Loss G_B: 0.2441905909426072\n",
            "epoch10\n"
          ]
        },
        {
          "output_type": "stream",
          "name": "stderr",
          "text": [
            "100%|██████████| 220/220 [01:39<00:00,  2.20it/s]\n",
            "100%|██████████| 7/7 [00:03<00:00,  2.11it/s]\n"
          ]
        },
        {
          "output_type": "stream",
          "name": "stdout",
          "text": [
            "Epoch [11/100], Loss D_A: 2.7831332010250393e-15, Loss D_B: 5.9116110699452456e-15, Loss G_A: 0.23134395795709947, Loss G_B: 0.24115103314904607\n",
            "epoch11\n"
          ]
        },
        {
          "output_type": "stream",
          "name": "stderr",
          "text": [
            "100%|██████████| 220/220 [01:40<00:00,  2.18it/s]\n",
            "100%|██████████| 7/7 [00:03<00:00,  2.22it/s]\n"
          ]
        },
        {
          "output_type": "stream",
          "name": "stdout",
          "text": [
            "Epoch [12/100], Loss D_A: 2.729842495843032e-15, Loss D_B: 5.567311317837962e-15, Loss G_A: 0.2288828524421243, Loss G_B: 0.23930642625864815\n",
            "epoch12\n"
          ]
        },
        {
          "output_type": "stream",
          "name": "stderr",
          "text": [
            "100%|██████████| 220/220 [01:39<00:00,  2.20it/s]\n",
            "100%|██████████| 7/7 [00:04<00:00,  1.54it/s]\n"
          ]
        },
        {
          "output_type": "stream",
          "name": "stdout",
          "text": [
            "Epoch [13/100], Loss D_A: 2.792537443115982e-15, Loss D_B: 5.2355505551852675e-15, Loss G_A: 0.2265384707731359, Loss G_B: 0.2375940868433784\n",
            "epoch13\n"
          ]
        },
        {
          "output_type": "stream",
          "name": "stderr",
          "text": [
            "100%|██████████| 220/220 [01:40<00:00,  2.19it/s]\n",
            "100%|██████████| 7/7 [00:03<00:00,  2.20it/s]\n"
          ]
        },
        {
          "output_type": "stream",
          "name": "stdout",
          "text": [
            "Epoch [14/100], Loss D_A: 2.573105127660657e-15, Loss D_B: 5.638365591413972e-15, Loss G_A: 0.22439899423543144, Loss G_B: 0.235216386458453\n",
            "epoch14\n"
          ]
        },
        {
          "output_type": "stream",
          "name": "stderr",
          "text": [
            "100%|██████████| 220/220 [01:41<00:00,  2.18it/s]\n",
            "100%|██████████| 7/7 [00:03<00:00,  2.10it/s]\n"
          ]
        },
        {
          "output_type": "stream",
          "name": "stdout",
          "text": [
            "Epoch [15/100], Loss D_A: 2.6974501064186745e-15, Loss D_B: 5.633141012474559e-15, Loss G_A: 0.22190773178549375, Loss G_B: 0.2331349649148829\n",
            "epoch15\n"
          ]
        },
        {
          "output_type": "stream",
          "name": "stderr",
          "text": [
            "100%|██████████| 220/220 [01:40<00:00,  2.19it/s]\n",
            "100%|██████████| 7/7 [00:04<00:00,  1.46it/s]\n"
          ]
        },
        {
          "output_type": "stream",
          "name": "stdout",
          "text": [
            "Epoch [16/100], Loss D_A: 2.794104816797806e-15, Loss D_B: 5.446623544337533e-15, Loss G_A: 0.21988258768530453, Loss G_B: 0.2302603750369128\n",
            "epoch16\n"
          ]
        },
        {
          "output_type": "stream",
          "name": "stderr",
          "text": [
            "100%|██████████| 220/220 [01:40<00:00,  2.20it/s]\n",
            "100%|██████████| 7/7 [00:03<00:00,  1.89it/s]\n"
          ]
        },
        {
          "output_type": "stream",
          "name": "stdout",
          "text": [
            "Epoch [17/100], Loss D_A: 2.780520911555333e-15, Loss D_B: 6.020282311885025e-15, Loss G_A: 0.2183893400781295, Loss G_B: 0.22824815974516027\n",
            "epoch17\n"
          ]
        },
        {
          "output_type": "stream",
          "name": "stderr",
          "text": [
            "100%|██████████| 220/220 [01:41<00:00,  2.16it/s]\n",
            "100%|██████████| 7/7 [00:04<00:00,  1.65it/s]\n"
          ]
        },
        {
          "output_type": "stream",
          "name": "stdout",
          "text": [
            "Epoch [18/100], Loss D_A: 2.750740811600682e-15, Loss D_B: 5.488942633746774e-15, Loss G_A: 0.2169703830690945, Loss G_B: 0.22733617803629708\n",
            "epoch18\n"
          ]
        },
        {
          "output_type": "stream",
          "name": "stderr",
          "text": [
            "100%|██████████| 220/220 [01:40<00:00,  2.19it/s]\n",
            "100%|██████████| 7/7 [00:03<00:00,  1.83it/s]\n"
          ]
        },
        {
          "output_type": "stream",
          "name": "stdout",
          "text": [
            "Epoch [19/100], Loss D_A: 2.8332891588433994e-15, Loss D_B: 5.593956670428965e-15, Loss G_A: 0.21442745208740235, Loss G_B: 0.22561847918173847\n",
            "epoch19\n"
          ]
        },
        {
          "output_type": "stream",
          "name": "stderr",
          "text": [
            "100%|██████████| 220/220 [01:41<00:00,  2.17it/s]\n",
            "100%|██████████| 7/7 [00:03<00:00,  2.02it/s]\n"
          ]
        },
        {
          "output_type": "stream",
          "name": "stdout",
          "text": [
            "Epoch [20/100], Loss D_A: 2.757532764221918e-15, Loss D_B: 5.6138100703987325e-15, Loss G_A: 0.21367186195710125, Loss G_B: 0.22440182952319873\n",
            "epoch20\n"
          ]
        },
        {
          "output_type": "stream",
          "name": "stderr",
          "text": [
            "100%|██████████| 220/220 [01:39<00:00,  2.21it/s]\n",
            "100%|██████████| 7/7 [00:05<00:00,  1.40it/s]"
          ]
        },
        {
          "output_type": "stream",
          "name": "stdout",
          "text": [
            "Epoch [21/100], Loss D_A: 2.7956721904796293e-15, Loss D_B: 5.857797906869297e-15, Loss G_A: 0.21163254913161783, Loss G_B: 0.22182141072609846\n",
            "epoch21\n"
          ]
        },
        {
          "output_type": "stream",
          "name": "stderr",
          "text": [
            "\n",
            "100%|██████████| 220/220 [01:39<00:00,  2.20it/s]\n",
            "100%|██████████| 7/7 [00:03<00:00,  2.19it/s]\n"
          ]
        },
        {
          "output_type": "stream",
          "name": "stdout",
          "text": [
            "Epoch [22/100], Loss D_A: 2.6175140486456634e-15, Loss D_B: 5.42885997594353e-15, Loss G_A: 0.21032530307769776, Loss G_B: 0.22134423957151525\n",
            "epoch22\n"
          ]
        },
        {
          "output_type": "stream",
          "name": "stderr",
          "text": [
            "100%|██████████| 220/220 [01:41<00:00,  2.16it/s]\n",
            "100%|██████████| 7/7 [00:03<00:00,  1.95it/s]\n"
          ]
        },
        {
          "output_type": "stream",
          "name": "stdout",
          "text": [
            "Epoch [23/100], Loss D_A: 2.8479179798737546e-15, Loss D_B: 5.7783843069902265e-15, Loss G_A: 0.2091499278124641, Loss G_B: 0.21883314357084385\n",
            "epoch23\n"
          ]
        },
        {
          "output_type": "stream",
          "name": "stderr",
          "text": [
            "100%|██████████| 220/220 [01:41<00:00,  2.18it/s]\n",
            "100%|██████████| 7/7 [00:04<00:00,  1.54it/s]\n"
          ]
        },
        {
          "output_type": "stream",
          "name": "stdout",
          "text": [
            "Epoch [24/100], Loss D_A: 2.8416484851464593e-15, Loss D_B: 5.279437018276333e-15, Loss G_A: 0.20822626941344316, Loss G_B: 0.21868279323858372\n",
            "epoch24\n"
          ]
        },
        {
          "output_type": "stream",
          "name": "stderr",
          "text": [
            "100%|██████████| 220/220 [01:39<00:00,  2.20it/s]\n",
            "100%|██████████| 7/7 [00:03<00:00,  2.02it/s]\n"
          ]
        },
        {
          "output_type": "stream",
          "name": "stdout",
          "text": [
            "Epoch [25/100], Loss D_A: 2.596615732888013e-15, Loss D_B: 5.534918928413604e-15, Loss G_A: 0.2067115160998176, Loss G_B: 0.21705570627661314\n",
            "epoch25\n"
          ]
        },
        {
          "output_type": "stream",
          "name": "stderr",
          "text": [
            "100%|██████████| 220/220 [01:40<00:00,  2.18it/s]\n",
            "100%|██████████| 7/7 [00:03<00:00,  2.11it/s]\n"
          ]
        },
        {
          "output_type": "stream",
          "name": "stdout",
          "text": [
            "Epoch [26/100], Loss D_A: 2.6979725643126157e-15, Loss D_B: 5.68381942818686e-15, Loss G_A: 0.20586524879231172, Loss G_B: 0.21611692225231843\n",
            "epoch26\n"
          ]
        },
        {
          "output_type": "stream",
          "name": "stderr",
          "text": [
            "100%|██████████| 220/220 [01:39<00:00,  2.20it/s]\n",
            "100%|██████████| 7/7 [00:04<00:00,  1.73it/s]\n"
          ]
        },
        {
          "output_type": "stream",
          "name": "stdout",
          "text": [
            "Epoch [27/100], Loss D_A: 2.828064579903987e-15, Loss D_B: 5.6153774440805564e-15, Loss G_A: 0.204448940894183, Loss G_B: 0.21411834148799672\n",
            "epoch27\n"
          ]
        },
        {
          "output_type": "stream",
          "name": "stderr",
          "text": [
            "100%|██████████| 220/220 [01:39<00:00,  2.20it/s]\n",
            "100%|██████████| 7/7 [00:03<00:00,  2.18it/s]\n"
          ]
        },
        {
          "output_type": "stream",
          "name": "stdout",
          "text": [
            "Epoch [28/100], Loss D_A: 2.809256095722102e-15, Loss D_B: 5.676505017671683e-15, Loss G_A: 0.20341865097775177, Loss G_B: 0.213243668570238\n",
            "epoch28\n"
          ]
        },
        {
          "output_type": "stream",
          "name": "stderr",
          "text": [
            "100%|██████████| 220/220 [01:40<00:00,  2.19it/s]\n",
            "100%|██████████| 7/7 [00:03<00:00,  2.08it/s]\n"
          ]
        },
        {
          "output_type": "stream",
          "name": "stdout",
          "text": [
            "Epoch [29/100], Loss D_A: 2.644159401236667e-15, Loss D_B: 5.137328471124313e-15, Loss G_A: 0.2028634837094475, Loss G_B: 0.2120032221429488\n",
            "epoch29\n"
          ]
        },
        {
          "output_type": "stream",
          "name": "stderr",
          "text": [
            "100%|██████████| 220/220 [01:40<00:00,  2.19it/s]\n",
            "100%|██████████| 7/7 [00:03<00:00,  1.81it/s]\n"
          ]
        },
        {
          "output_type": "stream",
          "name": "stdout",
          "text": [
            "Epoch [30/100], Loss D_A: 2.738724280040033e-15, Loss D_B: 5.335340012928046e-15, Loss G_A: 0.2023890568228329, Loss G_B: 0.21172735052950242\n",
            "epoch30\n"
          ]
        },
        {
          "output_type": "stream",
          "name": "stderr",
          "text": [
            " 30%|███       | 66/220 [00:30<01:09,  2.23it/s]"
          ]
        }
      ],
      "source": [
        "gen_A = Generator()\n",
        "gen_B = Generator()\n",
        "dis_A = Discriminator()\n",
        "dis_B = Discriminator()\n",
        "gen_lr = 0.0002\n",
        "dis_lr = 0.0001\n",
        "\n",
        "gen_opt = optim.Adam(list(gen_A.parameters()) + list(gen_B.parameters()), lr=gen_lr, betas=(0.5, 0.999))\n",
        "dis_opt = optim.Adam(list(dis_A.parameters()) + list(dis_B.parameters()), lr=dis_lr, betas=(0.5, 0.999))\n",
        "\n",
        "\n",
        "train(dlTrainA, dlTrainB, dlTestA, dlTestB, gen_A, gen_B, dis_A, dis_B, gen_opt, dis_opt, epochs=100)\n"
      ]
    }
  ],
  "metadata": {
    "accelerator": "GPU",
    "colab": {
      "gpuType": "T4",
      "provenance": []
    },
    "kernelspec": {
      "display_name": "Python 3",
      "name": "python3"
    },
    "language_info": {
      "name": "python"
    }
  },
  "nbformat": 4,
  "nbformat_minor": 0
}